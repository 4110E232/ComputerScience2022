{
  "nbformat": 4,
  "nbformat_minor": 0,
  "metadata": {
    "colab": {
      "provenance": []
    },
    "kernelspec": {
      "name": "python3",
      "display_name": "Python 3"
    },
    "language_info": {
      "name": "python"
    }
  },
  "cells": [
    {
      "cell_type": "markdown",
      "source": [
        "# 1\n"
      ],
      "metadata": {
        "id": "qJFagNRA4oqb"
      }
    },
    {
      "cell_type": "markdown",
      "source": [
        "What can Python do?\n",
        "\n",
        "(A)Python can be used on a server to create web applications.\n",
        "\n",
        "(B)Python can be used alongside software to create workflows.\n",
        "\n",
        "(C)Python can connect to database systems. It can also read and modify files.\n",
        "\n",
        "(D)Python can be used to handle big data and perform complex mathematics."
      ],
      "metadata": {
        "id": "132K4VeU5Gtw"
      }
    },
    {
      "cell_type": "markdown",
      "source": [
        "# Answers:(A, B, C, D)\n",
        "https://www.w3schools.com/python/python_intro.asp\n",
        "\n",
        "Python can be used on a server to create web applications.\n",
        "\n",
        "Python can be used alongside software to create workflows.\n",
        "\n",
        "Python can connect to database systems. It can also read and modify files.\n",
        "\n",
        "Python can be used to handle big data and perform complex mathematics.\n",
        "\n",
        "Python can be used for rapid prototyping, or for production-ready software development."
      ],
      "metadata": {
        "id": "uUZwJKjd5Jqp"
      }
    },
    {
      "cell_type": "markdown",
      "source": [
        "# 2\n"
      ],
      "metadata": {
        "id": "wjTC2Rhc5SeA"
      }
    },
    {
      "cell_type": "markdown",
      "source": [
        "Python uses __________ to indicate a block of code\n",
        "\n",
        "(A) [] (B){} (C) () (D) indentation"
      ],
      "metadata": {
        "id": "hwQk8G3j5ixX"
      }
    },
    {
      "cell_type": "markdown",
      "source": [
        "# Answer: (D)\n",
        "https://www.w3schools.com/python/python_syntax.asp\n",
        "\n",
        "Python uses indentation to indicate a block of code."
      ],
      "metadata": {
        "id": "QSdmVgh15kVH"
      }
    },
    {
      "cell_type": "markdown",
      "source": [
        "# 3\n"
      ],
      "metadata": {
        "id": "iS5pt0hP6eMd"
      }
    },
    {
      "cell_type": "markdown",
      "source": [
        "Python has commenting capability for the purpose of in-code documentation. Comments start with a __________\n",
        "\n",
        "(A)A (B) # (C) / (D)&"
      ],
      "metadata": {
        "id": "LYRpTfsf6fzE"
      }
    },
    {
      "cell_type": "markdown",
      "source": [
        "Answer: \n",
        "Comments starts with a #, and Python will ignore them:\n",
        "\n",
        "https://www.w3schools.com/python/python_comments.asp\n"
      ],
      "metadata": {
        "id": "eIUCNF_g6i3m"
      }
    },
    {
      "cell_type": "markdown",
      "source": [
        "# 4\n"
      ],
      "metadata": {
        "id": "j3x19Aql6t5i"
      }
    },
    {
      "cell_type": "markdown",
      "source": [
        "Unpack a Collection:\n",
        "\n",
        "If you have a collection of values in a list, tuple etc. Python allows you to extract the values into variables.\n",
        "\n",
        "fruits = [\"apple\", \"banana\", \"cherry\"]\n",
        "\n",
        "x, y, z = fruits\n",
        "\n",
        "print(x)\n",
        "\n",
        "What is the output of this code in Python?\n",
        "\n",
        "(A) apple\n",
        "\n",
        "(B) banana\n",
        "\n",
        "(C) cherry\n",
        "\n",
        "(D) [\"apple\", \"banana\", \"cherry\"]"
      ],
      "metadata": {
        "id": "Gn7m7NLE6v0S"
      }
    },
    {
      "cell_type": "markdown",
      "source": [
        "Answer:\n",
        "\n",
        "(A) apple"
      ],
      "metadata": {
        "id": "DrjhTxlk6zeC"
      }
    },
    {
      "cell_type": "markdown",
      "source": [
        "# 5"
      ],
      "metadata": {
        "id": "rUzioDOR6196"
      }
    },
    {
      "cell_type": "markdown",
      "source": [
        "Which following is the correct way to create a dictionary in Python?\n",
        "\n",
        "(A) students = { 'name' => 'alice' ; 'score' =>60 }\n",
        "\n",
        "(B) students = { 'name' = 'alice' ; 'score' =60 }\n",
        "\n",
        "(C) students = { 'name' : 'alice' ; 'score' : 60 }\n",
        "\n",
        "(D) students = { 'name' => 'alice' , 'score' =>60 }\n",
        "\n",
        "(E) students = { 'name' : 'alice' , 'score' : 60 }"
      ],
      "metadata": {
        "id": "hkatv5M163lS"
      }
    },
    {
      "cell_type": "markdown",
      "source": [
        "# Answer:\n",
        "\n",
        "(E) students = { 'name' : 'alice' , 'score' : 60 }"
      ],
      "metadata": {
        "id": "TAKNU-aX67CS"
      }
    },
    {
      "cell_type": "markdown",
      "source": [
        "# 6\n"
      ],
      "metadata": {
        "id": "SgkkhWwl6-Ja"
      }
    },
    {
      "cell_type": "markdown",
      "source": [
        "What is the output of this code in Python?\n",
        "\n",
        "x = 5\n",
        "\n",
        "y = \"John\"\n",
        "\n",
        "print(x + y)\n",
        "\n",
        "(A) 5 John (B) 5 + John (C) John\n",
        "\n",
        "(D) Python will give you an error"
      ],
      "metadata": {
        "id": "-l1Tu4m97Cbp"
      }
    },
    {
      "cell_type": "markdown",
      "source": [
        "# Answer:\n",
        "\n",
        "(D) Python will give you an error"
      ],
      "metadata": {
        "id": "9h89eGQf7DA6"
      }
    },
    {
      "cell_type": "markdown",
      "source": [
        "# 7"
      ],
      "metadata": {
        "id": "QOfJi5397FUq"
      }
    },
    {
      "cell_type": "markdown",
      "source": [
        "Which one of the following outputs is wrong?\n",
        "\n",
        "(A)13//5 output: 2.6\n",
        "\n",
        "(B) 13/5 output: 2.6\n",
        "\n",
        "(C)13%5 output:3\n",
        "\n",
        "(D)y = int(2.8) output:2"
      ],
      "metadata": {
        "id": "QmKAwXbv7I2r"
      }
    },
    {
      "cell_type": "markdown",
      "source": [
        "# Answer:\n",
        "\n",
        "(A)13//5 output: 2.6"
      ],
      "metadata": {
        "id": "F4vm7SW57Lby"
      }
    },
    {
      "cell_type": "markdown",
      "source": [
        "# 8\n"
      ],
      "metadata": {
        "id": "coEAZlBl7QCK"
      }
    },
    {
      "cell_type": "markdown",
      "source": [
        "What does the following Python program fragment do?\n",
        "\n",
        "s=0\n",
        "\n",
        "for i in range (3 , 11) :\n",
        "\n",
        "    s+=i\n",
        "print (s)\n",
        "\n",
        "(A) Calculate the sum of 1+2+…+10\n",
        "\n",
        "(B) Calculate the sum of 1+4+7+10\n",
        "\n",
        "(C) Calculate the sum of 3+4+5+6+…+9\n",
        "\n",
        "(D) Calculate the sum of 3+4+5+6+…+10\n",
        "\n",
        "(E) Calculate the sum of 0+2+4+6+…+10"
      ],
      "metadata": {
        "id": "EogTOX6N7SZS"
      }
    },
    {
      "cell_type": "markdown",
      "source": [
        "# Answer:\n",
        "\n",
        "(D) Calculate the sum of 3+4+5+6+…+10"
      ],
      "metadata": {
        "id": "E6E2dY-a7YLb"
      }
    },
    {
      "cell_type": "markdown",
      "source": [
        "# 9\n"
      ],
      "metadata": {
        "id": "KbTDQJ9F7bSJ"
      }
    },
    {
      "cell_type": "markdown",
      "source": [
        "What is the output of this code in Python?\n",
        "\n",
        "a = \"Hello, World!\"\n",
        "\n",
        "print(a[2:5]+ a[3:8])\n",
        "\n",
        "(A) W llolo,\n",
        "\n",
        "(B) llolo,Wo\n",
        "\n",
        "(C) llolo, W\n",
        "\n",
        "(D) llolo,Wor"
      ],
      "metadata": {
        "id": "-vaDUcnP7cxh"
      }
    },
    {
      "cell_type": "markdown",
      "source": [
        "# Answer:\n",
        "\n",
        "(C) llolo, W"
      ],
      "metadata": {
        "id": "oNARE-zV7evK"
      }
    },
    {
      "cell_type": "markdown",
      "source": [
        "# 10\n"
      ],
      "metadata": {
        "id": "8sx-ILxL7hzw"
      }
    },
    {
      "cell_type": "markdown",
      "source": [
        "Which function can returns the length of a string?\n",
        "\n",
        "a = \"Hello, Pythonian!\"\n",
        "\n",
        "print(_________)\n",
        "\n",
        "(A) len(a) (B) length(a) (C) count(a) (D) num(a)"
      ],
      "metadata": {
        "id": "kevE1wyb7kHy"
      }
    },
    {
      "cell_type": "markdown",
      "source": [
        "# Answer:\n",
        "(A) len(a)\n",
        "\n",
        " https://www.w3schools.com/python/gloss_python_string_length.asp#:~:text=To%20get%20the%20length%20of,use%20the%20len()%20function.\n",
        "\n"
      ],
      "metadata": {
        "id": "by1SLFUG7mNR"
      }
    },
    {
      "cell_type": "markdown",
      "source": [
        "# 11\n"
      ],
      "metadata": {
        "id": "KDb0NXHh7q6p"
      }
    },
    {
      "cell_type": "markdown",
      "source": [
        "What is the output of this code in Python?\n",
        "\n",
        "  list = [ ' a ' ,  ' b ' ,  ' c ' ,  ' d ' ,  ' e ' ]\n",
        "  \n",
        "  print (list [ 1 : ])\n",
        "(A) [ ]\n",
        "\n",
        "(B) [ 'b' ]\n",
        "\n",
        "(C) [ 'a' , 'b' ]\n",
        "\n",
        "(D) [ 'b' , 'c' , 'd' , 'e' ]"
      ],
      "metadata": {
        "id": "HvFNlhJJ7ttQ"
      }
    },
    {
      "cell_type": "markdown",
      "source": [
        "# Answer:\n",
        "\n",
        "(D) [ 'b' , 'c' , 'd' , 'e' ]"
      ],
      "metadata": {
        "id": "6wNlyhLU7uSI"
      }
    },
    {
      "cell_type": "markdown",
      "source": [
        "# 12"
      ],
      "metadata": {
        "id": "sA4bipZP7whI"
      }
    },
    {
      "cell_type": "markdown",
      "source": [
        "What is the output of this code in Python?"
      ],
      "metadata": {
        "id": "kzD7QeM37yy_"
      }
    },
    {
      "cell_type": "code",
      "source": [
        "    L1 = [ ]\n",
        "    \n",
        "    L1.append ( [1, [2, 3], 4] )\n",
        "    \n",
        "    L1.extend ( [7, 8, 9] )\n",
        "    \n",
        "    print(L1[0][1][1] + L1[2] )"
      ],
      "metadata": {
        "colab": {
          "base_uri": "https://localhost:8080/"
        },
        "id": "pU3R24Av707n",
        "outputId": "1d78205f-fc7d-4cad-abd8-84e602f15314"
      },
      "execution_count": 1,
      "outputs": [
        {
          "output_type": "stream",
          "name": "stdout",
          "text": [
            "11\n"
          ]
        }
      ]
    },
    {
      "cell_type": "markdown",
      "source": [
        "(A) 3 (B) 8 (C) 11 (D) 38 (E) None of these"
      ],
      "metadata": {
        "id": "0F37ZZn475Wv"
      }
    },
    {
      "cell_type": "markdown",
      "source": [
        "# Answer:\n",
        "\n",
        "(C) 11"
      ],
      "metadata": {
        "id": "6m4DkD8378aH"
      }
    },
    {
      "cell_type": "markdown",
      "source": [
        "# 13\n"
      ],
      "metadata": {
        "id": "WRnS0Z1L7-Kg"
      }
    },
    {
      "cell_type": "markdown",
      "source": [
        "Check if \"free\" is present in the following text:\n",
        "\n",
        "txt = \"The best things in life are free!\"\n",
        "\n",
        "print(\"free\" ______ txt)\n",
        "\n",
        "Which is the correct answer?\n",
        "\n",
        "(A) on (B) with (C) at (D) in"
      ],
      "metadata": {
        "id": "xsTuz3Un8BdP"
      }
    },
    {
      "cell_type": "markdown",
      "source": [
        "# Answer:(D) in\n",
        "\n",
        " https://www.w3schools.com/python/python_strings.asp\n"
      ],
      "metadata": {
        "id": "HiEb4o4_8Dpv"
      }
    },
    {
      "cell_type": "markdown",
      "source": [
        "# 14\n"
      ],
      "metadata": {
        "id": "Kzxhojnp8Ia2"
      }
    },
    {
      "cell_type": "markdown",
      "source": [
        "Which of the following conditions correctly describes the output of this code in Python?"
      ],
      "metadata": {
        "id": "cXXsTh1c8KHH"
      }
    },
    {
      "cell_type": "code",
      "source": [
        "     first = [1 , 2 , 3 , 4 , 5]\n",
        "     \n",
        "     second = first\n",
        "     \n",
        "     second.append (6)\n",
        "     \n",
        "     print (first)\n",
        "     \n",
        "     print (second)"
      ],
      "metadata": {
        "colab": {
          "base_uri": "https://localhost:8080/"
        },
        "id": "LOVJZ1p48MHQ",
        "outputId": "b3020d9e-8f54-4f0b-855e-a44d0814746b"
      },
      "execution_count": 2,
      "outputs": [
        {
          "output_type": "stream",
          "name": "stdout",
          "text": [
            "[1, 2, 3, 4, 5, 6]\n",
            "[1, 2, 3, 4, 5, 6]\n"
          ]
        }
      ]
    },
    {
      "cell_type": "markdown",
      "source": [
        "(A) first=[1, 2, 3, 4, 5], second=[1, 2, 3, 4, 5, 6]\n",
        "\n",
        "(B) first=[1, 2, 3, 4, 5, 6], second=[1, 2, 3, 4, 5]\n",
        "\n",
        "(C) first=[1, 2, 3, 4, 5], second=[1, 2, 3, 4, 5]\n",
        "\n",
        "(D) first=[1, 2, 3, 4, 5, 6], second=[1, 2, 3, 4, 5, 6]\n",
        "\n",
        "(E) None of these"
      ],
      "metadata": {
        "id": "3t0uXw9Y8OxW"
      }
    },
    {
      "cell_type": "markdown",
      "source": [
        "# Answer:\n",
        "\n",
        "(D) first=[1, 2, 3, 4, 5, 6], second=[1, 2, 3, 4, 5, 6]"
      ],
      "metadata": {
        "id": "GgAGOi0D8PaO"
      }
    },
    {
      "cell_type": "markdown",
      "source": [
        "# 15"
      ],
      "metadata": {
        "id": "4yZDadCh8S2G"
      }
    },
    {
      "cell_type": "markdown",
      "source": [
        "Python has a set of built-in methods that you can use on strings. Which method can converts string into lower case ?\n",
        "\n",
        "(A)capitalize() (B) casefold() (C) lower()\n",
        "\n",
        "(D)expandtabs()"
      ],
      "metadata": {
        "id": "jO2JMIKf_1z4"
      }
    },
    {
      "cell_type": "markdown",
      "source": [
        "# Answers:(B) casefold() (C) lower()\n",
        "\n",
        " https://www.w3schools.com/python/python_strings_modify.asp"
      ],
      "metadata": {
        "id": "t_4AGb7K_2gQ"
      }
    },
    {
      "cell_type": "markdown",
      "source": [
        "# 16"
      ],
      "metadata": {
        "id": "1x6W5ZF0_9lY"
      }
    },
    {
      "cell_type": "markdown",
      "source": [
        "Python Booleans\n",
        "\n",
        "Which one of the following statements is wrong?\n",
        "\n",
        "(A) Booleans represent one of two values: True or False.\n",
        "\n",
        "(B) The bool() function allows you to evaluate any value, and give you True or False in return,\n",
        "\n",
        "(C) print(10 > 9) will output True\n",
        "\n",
        "(D) print(10 = 9) will output True"
      ],
      "metadata": {
        "id": "-SrXcVdo_-1V"
      }
    },
    {
      "cell_type": "markdown",
      "source": [
        "# Answer:(C) print(10 > 9) will output True"
      ],
      "metadata": {
        "id": "Eww8M8SZAAp_"
      }
    },
    {
      "cell_type": "markdown",
      "source": [
        "# 17"
      ],
      "metadata": {
        "id": "NY7wWwMLAPNm"
      }
    },
    {
      "cell_type": "markdown",
      "source": [
        "Which of the following statements is wrong?\n",
        "\n",
        "(A) Lists are used to store multiple items in a single variable.\n",
        "\n",
        "(B) Lists are created using square brackets\n",
        "\n",
        "(C) List items are ordered, changeable, and allow duplicate values.\n",
        "\n",
        "(D) Lists can not have items with the same value"
      ],
      "metadata": {
        "id": "7of6x9Z3ARQO"
      }
    },
    {
      "cell_type": "markdown",
      "source": [
        "# Answer:(D) Lists can not have items with the same value\n",
        "\n",
        " https://www.w3schools.com/python/python_lists.asp\n"
      ],
      "metadata": {
        "id": "dlWqbjUeATsm"
      }
    },
    {
      "cell_type": "markdown",
      "source": [
        "# 18"
      ],
      "metadata": {
        "id": "dTZ6W0a7AY13"
      }
    },
    {
      "cell_type": "markdown",
      "source": [
        "Which one of the codes will output\n",
        "\n",
        "['apple', 'orange', 'banana', 'cherry'] ?\n",
        "\n",
        "mylist = [\"apple\", \"banana\", \"cherry\"]\n",
        "\n",
        "print(mylist)\n",
        "\n",
        "(A)mylist.append(\"orange\")\n",
        "\n",
        "(B)mylist.insert(0, \"orange\")\n",
        "\n",
        "(C)mylist.insert(1, \"orange\")\n",
        "\n",
        "(D)mylist.insert(2, \"orange\")"
      ],
      "metadata": {
        "id": "VYD8JWHnAa3Z"
      }
    },
    {
      "cell_type": "markdown",
      "source": [
        "# Answer: (C)mylist.insert(1, \"orange\")"
      ],
      "metadata": {
        "id": "Tl2zpOdOAcov"
      }
    },
    {
      "cell_type": "markdown",
      "source": [
        "# 19"
      ],
      "metadata": {
        "id": "95IN28aCAg_N"
      }
    },
    {
      "cell_type": "markdown",
      "source": [
        "Python has a set of built-in methods that you can use on dictionaries. Which statements are correct ?\n",
        "\n",
        "(A) clear() will removes all the elements from the dictionary\n",
        "\n",
        "(B) copy() will returns a copy of the dictionary\n",
        "\n",
        "(C) items() will returns a list containing a tuple for each key value pair\n",
        "\n",
        "(D) popitem() will removes the last inserted key-value pair"
      ],
      "metadata": {
        "id": "eKNh9Kp3AjkN"
      }
    },
    {
      "cell_type": "markdown",
      "source": [
        "# Answers: \n",
        "\n",
        "A) clear() will removes all the elements from the dictionary\n",
        "\n",
        "(B) copy() will returns a copy of the dictionary\n",
        "\n",
        "(C) items() will returns a list containing a tuple for each key value pair\n",
        "\n",
        "(D) popitem() will removes the last inserted key-value pair\n",
        "\n",
        "https://www.w3schools.com/python/python_dictionaries_methods.asp"
      ],
      "metadata": {
        "id": "GMa0eiozAkFu"
      }
    },
    {
      "cell_type": "markdown",
      "source": [
        "# 20"
      ],
      "metadata": {
        "id": "637Y_1LBApst"
      }
    },
    {
      "cell_type": "markdown",
      "source": [
        "Python supports the usual logical conditions from mathematics:\n",
        "\n",
        "Which statements are correct ?\n",
        "\n",
        "(A)Equals: a = b\n",
        "\n",
        "(B)Not Equals: a != b\n",
        "\n",
        "(C)Less than or equal to: a <= b\n",
        "\n",
        "(D)Greater than: a > b"
      ],
      "metadata": {
        "id": "76r_2813AthN"
      }
    },
    {
      "cell_type": "markdown",
      "source": [
        "# Answers: \n",
        "\n",
        "(B)Not Equals: a != b\n",
        "\n",
        "(C)Less than or equal to: a <= b\n",
        "\n",
        "(D)Greater than: a > b\n",
        "\n",
        "https://www.w3schools.com/python/python_conditions.asp"
      ],
      "metadata": {
        "id": "SY-AM9woAvKM"
      }
    },
    {
      "cell_type": "markdown",
      "source": [
        "# 21"
      ],
      "metadata": {
        "id": "BRr4VC6MAz9c"
      }
    },
    {
      "cell_type": "markdown",
      "source": [
        "What is the output of this code in Python?\n",
        "\n",
        "i = 1\n",
        "\n",
        "while i < 6:\n",
        "\n",
        "print(i)\n",
        "\n",
        "if (i == 3):\n",
        "\n",
        "break\n",
        "i += 1"
      ],
      "metadata": {
        "id": "BsN9aVQ4A1kF"
      }
    },
    {
      "cell_type": "markdown",
      "source": [
        "# Answer:\n",
        "\n",
        "(A)\n",
        "\n",
        "1\n",
        "\n",
        "2\n",
        "\n",
        "3"
      ],
      "metadata": {
        "id": "jLl-oGeJA-0E"
      }
    },
    {
      "cell_type": "markdown",
      "source": [
        "# 22"
      ],
      "metadata": {
        "id": "v08_xUqpBCfL"
      }
    },
    {
      "cell_type": "markdown",
      "source": [
        "What is the output of this code in Python?\n",
        "\n",
        "i = 0\n",
        "\n",
        "while i < 6:\n",
        "\n",
        "i += 1\n",
        "\n",
        "if i == 3:\n",
        "\n",
        "continue\n",
        "print(i)"
      ],
      "metadata": {
        "id": "eIIXerwKBDzM"
      }
    },
    {
      "cell_type": "markdown",
      "source": [
        "# Answer:\n",
        "\n",
        "(B)\n",
        "\n",
        "1\n",
        "\n",
        "2\n",
        "\n",
        "4\n",
        "\n",
        "5\n",
        "\n",
        "6"
      ],
      "metadata": {
        "id": "z86KsbLPBHxc"
      }
    },
    {
      "cell_type": "markdown",
      "source": [
        "# 23"
      ],
      "metadata": {
        "id": "oEO6VJCuBJAT"
      }
    },
    {
      "cell_type": "markdown",
      "source": [
        "If the function\n",
        "\n",
        "int volume (int x = 1, int y = 1, int z = 1);\n",
        "\n",
        "is called by the expression volume (7,8), how many default arguments are used?\n",
        "\n",
        "(A) None (B) One (C) Two (D) Three\n",
        "\n",
        "(E) It depends on the runtime environment"
      ],
      "metadata": {
        "id": "QGaAR2euBLy0"
      }
    },
    {
      "cell_type": "markdown",
      "source": [
        "# Answer:\n",
        "\n",
        "(B) One"
      ],
      "metadata": {
        "id": "NaBqVDeZBMV7"
      }
    },
    {
      "cell_type": "markdown",
      "source": [
        "# 24"
      ],
      "metadata": {
        "id": "3FO8-oVyBPUL"
      }
    },
    {
      "cell_type": "markdown",
      "source": [
        "\n",
        "What is the output of this code in python?"
      ],
      "metadata": {
        "id": "DgjtRNxVBSaL"
      }
    },
    {
      "cell_type": "code",
      "source": [
        "    r = lambda q: q * 2\n",
        "    \n",
        "    s = lambda q: q * 3\n",
        "    \n",
        "    x = 2\n",
        "    \n",
        "    x = r (x)\n",
        "    \n",
        "    x = s (x)\n",
        "    \n",
        "    x = r (x)\n",
        "    \n",
        "    print (x)"
      ],
      "metadata": {
        "colab": {
          "base_uri": "https://localhost:8080/"
        },
        "id": "zeL0ZhwjBVxr",
        "outputId": "5eb1830c-b586-4e9b-d3f5-0e2dd6c4202c"
      },
      "execution_count": 4,
      "outputs": [
        {
          "output_type": "stream",
          "name": "stdout",
          "text": [
            "24\n"
          ]
        }
      ]
    },
    {
      "cell_type": "markdown",
      "source": [
        "(A) 2 (B) 4 (C) 6 (D) 12 (E) 24"
      ],
      "metadata": {
        "id": "SLTCfnkgBW-6"
      }
    },
    {
      "cell_type": "markdown",
      "source": [
        "# Answer:\n",
        "\n",
        "(E) 24"
      ],
      "metadata": {
        "id": "2424dwN9BZ_a"
      }
    },
    {
      "cell_type": "markdown",
      "source": [
        "#25"
      ],
      "metadata": {
        "id": "8nfe0F2nBcBr"
      }
    },
    {
      "cell_type": "markdown",
      "source": [
        "A recursive function is defined as below:\n",
        "\n",
        "def tri_recursion(k):\n",
        "\n",
        "if(k > 0):\n",
        "\n",
        "result = k + tri_recursion(k - 1)\n",
        "\n",
        "print(result)\n",
        "else:\n",
        "\n",
        "result = 0\n",
        "return result\n",
        "\n",
        "What Is The Last Line Of The Output When tri_recursion(6) is executed?\n",
        "\n",
        "(A) 6 (B) 10 (C) 15 (D) 21 (E) 28"
      ],
      "metadata": {
        "id": "FHicwzbaBeH0"
      }
    },
    {
      "cell_type": "markdown",
      "source": [
        "# Answer:\n",
        "\n",
        "(D) 21"
      ],
      "metadata": {
        "id": "ZLshNZsKBm57"
      }
    }
  ]
}